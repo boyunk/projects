{
 "cells": [
  {
   "cell_type": "code",
   "execution_count": 1,
   "id": "858f2a59-c341-4449-8a31-d655f4306ac5",
   "metadata": {},
   "outputs": [],
   "source": [
    "#load the dataframe"
   ]
  },
  {
   "cell_type": "code",
   "execution_count": 2,
   "id": "cf75fc40-c879-4fe4-a93e-10cbbcfa2cce",
   "metadata": {},
   "outputs": [],
   "source": [
    "import pandas as pd"
   ]
  },
  {
   "cell_type": "code",
   "execution_count": 4,
   "id": "6cc8910b-4f5c-40f3-ad7c-bc56466be8bc",
   "metadata": {},
   "outputs": [],
   "source": [
    "df = pd.read_csv(\"dictionary.csv\")"
   ]
  },
  {
   "cell_type": "code",
   "execution_count": 5,
   "id": "85ced47f-c6ba-4dd2-90ad-c48706aefa9a",
   "metadata": {},
   "outputs": [
    {
     "data": {
      "text/html": [
       "<div>\n",
       "<style scoped>\n",
       "    .dataframe tbody tr th:only-of-type {\n",
       "        vertical-align: middle;\n",
       "    }\n",
       "\n",
       "    .dataframe tbody tr th {\n",
       "        vertical-align: top;\n",
       "    }\n",
       "\n",
       "    .dataframe thead th {\n",
       "        text-align: right;\n",
       "    }\n",
       "</style>\n",
       "<table border=\"1\" class=\"dataframe\">\n",
       "  <thead>\n",
       "    <tr style=\"text-align: right;\">\n",
       "      <th></th>\n",
       "      <th>word</th>\n",
       "      <th>definition</th>\n",
       "    </tr>\n",
       "  </thead>\n",
       "  <tbody>\n",
       "    <tr>\n",
       "      <th>0</th>\n",
       "      <td>abandoned industrial site</td>\n",
       "      <td>Site that cannot be used for any purpose, bein...</td>\n",
       "    </tr>\n",
       "    <tr>\n",
       "      <th>1</th>\n",
       "      <td>abandoned vehicle</td>\n",
       "      <td>A vehicle that has been discarded in the envir...</td>\n",
       "    </tr>\n",
       "    <tr>\n",
       "      <th>2</th>\n",
       "      <td>abiotic factor</td>\n",
       "      <td>Physical, chemical and other non-living enviro...</td>\n",
       "    </tr>\n",
       "    <tr>\n",
       "      <th>3</th>\n",
       "      <td>access road</td>\n",
       "      <td>Any street or narrow stretch of paved surface ...</td>\n",
       "    </tr>\n",
       "    <tr>\n",
       "      <th>4</th>\n",
       "      <td>access to the sea</td>\n",
       "      <td>The ability to bring goods to and from a port ...</td>\n",
       "    </tr>\n",
       "    <tr>\n",
       "      <th>...</th>\n",
       "      <td>...</td>\n",
       "      <td>...</td>\n",
       "    </tr>\n",
       "    <tr>\n",
       "      <th>49532</th>\n",
       "      <td>casing</td>\n",
       "      <td>Something put around something else, usually i...</td>\n",
       "    </tr>\n",
       "    <tr>\n",
       "      <th>49533</th>\n",
       "      <td>facing</td>\n",
       "      <td>Something put around something else, usually i...</td>\n",
       "    </tr>\n",
       "    <tr>\n",
       "      <th>49534</th>\n",
       "      <td>lining</td>\n",
       "      <td>Something put around something else, usually i...</td>\n",
       "    </tr>\n",
       "    <tr>\n",
       "      <th>49535</th>\n",
       "      <td>assumption of Mary</td>\n",
       "      <td>Catholic holiday on August 15, remembering the...</td>\n",
       "    </tr>\n",
       "    <tr>\n",
       "      <th>49536</th>\n",
       "      <td>auscultation</td>\n",
       "      <td>Listening to the heart and lungs using a steth...</td>\n",
       "    </tr>\n",
       "  </tbody>\n",
       "</table>\n",
       "<p>49537 rows × 2 columns</p>\n",
       "</div>"
      ],
      "text/plain": [
       "                            word  \\\n",
       "0      abandoned industrial site   \n",
       "1              abandoned vehicle   \n",
       "2                 abiotic factor   \n",
       "3                    access road   \n",
       "4              access to the sea   \n",
       "...                          ...   \n",
       "49532                     casing   \n",
       "49533                     facing   \n",
       "49534                     lining   \n",
       "49535         assumption of Mary   \n",
       "49536               auscultation   \n",
       "\n",
       "                                              definition  \n",
       "0      Site that cannot be used for any purpose, bein...  \n",
       "1      A vehicle that has been discarded in the envir...  \n",
       "2      Physical, chemical and other non-living enviro...  \n",
       "3      Any street or narrow stretch of paved surface ...  \n",
       "4      The ability to bring goods to and from a port ...  \n",
       "...                                                  ...  \n",
       "49532  Something put around something else, usually i...  \n",
       "49533  Something put around something else, usually i...  \n",
       "49534  Something put around something else, usually i...  \n",
       "49535  Catholic holiday on August 15, remembering the...  \n",
       "49536  Listening to the heart and lungs using a steth...  \n",
       "\n",
       "[49537 rows x 2 columns]"
      ]
     },
     "execution_count": 5,
     "metadata": {},
     "output_type": "execute_result"
    }
   ],
   "source": [
    "df"
   ]
  },
  {
   "cell_type": "code",
   "execution_count": 10,
   "id": "7efb99f0-9c09-4f34-b15e-4cb04389444b",
   "metadata": {},
   "outputs": [
    {
     "data": {
      "text/plain": [
       "2221    1. Auditory sensation produced by the oscillat...\n",
       "Name: definition, dtype: object"
      ]
     },
     "execution_count": 10,
     "metadata": {},
     "output_type": "execute_result"
    }
   ],
   "source": [
    "df.loc[df[\"word\"]==\"sound\"][\"definition\"]"
   ]
  },
  {
   "cell_type": "code",
   "execution_count": 11,
   "id": "ba654ee4-3cb8-42ab-82f7-1d683d3003f3",
   "metadata": {},
   "outputs": [
    {
     "data": {
      "text/plain": [
       "'1. Auditory sensation produced by the oscillations, stress, pressure, particle displacement, and particle velocity in a medium with internal forces; pressure variation that the human ear can detect.\\\\n(Source: KOREN)\\n2. To produce a sound.\\n'"
      ]
     },
     "execution_count": 11,
     "metadata": {},
     "output_type": "execute_result"
    }
   ],
   "source": [
    "df.loc[df[\"word\"]==\"sound\"][\"definition\"].squeeze()"
   ]
  }
 ],
 "metadata": {
  "kernelspec": {
   "display_name": "Python 3 (ipykernel)",
   "language": "python",
   "name": "python3"
  },
  "language_info": {
   "codemirror_mode": {
    "name": "ipython",
    "version": 3
   },
   "file_extension": ".py",
   "mimetype": "text/x-python",
   "name": "python",
   "nbconvert_exporter": "python",
   "pygments_lexer": "ipython3",
   "version": "3.11.4"
  }
 },
 "nbformat": 4,
 "nbformat_minor": 5
}
