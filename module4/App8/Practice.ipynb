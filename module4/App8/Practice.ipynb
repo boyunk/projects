{
 "cells": [
  {
   "cell_type": "markdown",
   "id": "878b65b5-417e-4e6a-bff6-17ae9ab86043",
   "metadata": {},
   "source": [
    "# Practice Round"
   ]
  },
  {
   "cell_type": "code",
   "execution_count": 8,
   "id": "4824e0fb-9246-4292-a8cc-8351b309b966",
   "metadata": {},
   "outputs": [],
   "source": [
    "import re"
   ]
  },
  {
   "cell_type": "markdown",
   "id": "d7387a8a-55f9-4412-b007-84c9e1ddefc2",
   "metadata": {},
   "source": [
    "## Load the book"
   ]
  },
  {
   "cell_type": "code",
   "execution_count": 13,
   "id": "5c273f79-89a2-4d4c-8b7f-bd69d117e73b",
   "metadata": {},
   "outputs": [],
   "source": [
    "with open(\"miracle_in_the_andes.txt\", \"r\") as file:\n",
    "    book = file.read()\n",
    "\n",
    "#book"
   ]
  },
  {
   "cell_type": "code",
   "execution_count": 4,
   "id": "65afca76-f4b3-4aff-a563-1068a180daf1",
   "metadata": {},
   "outputs": [],
   "source": [
    "## Extract the paragraphs where \"love\" was used"
   ]
  },
  {
   "cell_type": "code",
   "execution_count": 29,
   "id": "b0adc8a8-bdc1-4e1d-b4f4-07a1cca8103b",
   "metadata": {},
   "outputs": [
    {
     "data": {
      "text/plain": [
       "['To me, this is the essence of rugby. No other sport gives you such an intense sense of selflessness and unified purpose. I believe this is why rugby players all over the world feel such a passion for the game and such a feeling of brotherhood. As a young man, of course, I could not put these things into words, but I knew, and my teammates knew, that there was something special about the game, and under the guidance of the Christian Brothers we developed a passionate love for the sport that shaped our friendships and our lives. For eight years we played our hearts out for the Christian Brothers—a brotherhood of young boys with Latin names, playing a game with deep Anglo roots under Uruguay’s sunny skies, and proudly wearing the bright green shamrock on our uniforms. The game became so much a part of our lives, in fact, that when we graduated from Stella Maris at the age of sixteen, many of us could not bear the thought that our playing days were over. Our salvation came in the form of the Old Christians Club, a private rugby team formed in 1965 by previous alumni of the Stella Maris rugby program to give Stella Maris ruggers a chance to continue playing the game after our school years ended.',\n",
       " 'There were others—Alexis Hounie, Gastón Costemalle, Daniel Shaw—all of them great players and all of them my friends. But my oldest friend was Guido Magri. He and I had met on my first day at the Stella Maris School—I was eight years old and Guido was one year older—and we had been inseparable ever since. Guido and I grew up together, playing soccer and sharing a love of motorcycles, cars, and auto racing. When I was fifteen we both had mopeds that we had modified in silly ways—removing the mufflers, turn signals, and fenders—and we would ride them to Las Delicias, a famous ice cream parlor in our neighborhood, where we would drool over the girls from the nearby School Sagrado Corazón, hoping to impress them with our souped-up scooters. Guido was a dependable friend, with a good sense of humor and an easy laugh. He was also an outstanding scrum half, as quick and smart as a fox, with good hands and great courage. Under the guidance of the Christian Brothers, both of us grew to love the game of rugby with a consuming passion. As seasons passed we worked hard to improve our skills, and by the time I was fifteen we had each earned a spot on the Stella Maris First XV, the team’s starting lineup. After graduation, both of us went on to join the Old Christians and spent several happy seasons pursuing the high-octane social life of young rugby players. That rowdiness came to an abrupt end for Guido in 1969, when he met and fell in love with the beautiful daughter of a Chilean diplomat. She was now his fiancée, and he was happy to behave himself for her sake.']"
      ]
     },
     "execution_count": 29,
     "metadata": {},
     "output_type": "execute_result"
    }
   ],
   "source": [
    "pattern = re.compile(\"[^\\n]* love[^\\n]*\")\n",
    "findings = re.findall(pattern, book)\n",
    "#findings\n",
    "len(findings)\n",
    "findings[:2]"
   ]
  },
  {
   "cell_type": "markdown",
   "id": "8d7dd893-702a-4a23-94f2-4b0a088418c3",
   "metadata": {},
   "source": [
    "## Extract the chapter titles"
   ]
  },
  {
   "cell_type": "code",
   "execution_count": 62,
   "id": "cbdce381-8d1f-4911-a370-812ebcf5783c",
   "metadata": {},
   "outputs": [
    {
     "data": {
      "text/plain": [
       "['Chapter 1\\n\\nBefore\\n',\n",
       " 'Chapter 2\\n\\nEverything Precious\\n',\n",
       " 'Chapter 3\\n\\nA Promise\\n',\n",
       " 'Chapter 4\\n\\nBreathe Once More\\n',\n",
       " 'Chapter 5\\n\\nAbandoned\\n',\n",
       " 'Chapter 6\\n\\nTomb\\n',\n",
       " 'Chapter 7\\n\\nEast\\n',\n",
       " 'Chapter 8\\n\\nThe Opposite of Death\\n',\n",
       " 'Chapter 9\\n\\nI See a Man\\n']"
      ]
     },
     "execution_count": 62,
     "metadata": {},
     "output_type": "execute_result"
    }
   ],
   "source": [
    "# my own code:\n",
    "pattern = re.compile(\"Chapter [1-9]+\\n\\n[A-Za-z ]+\\n\")\n",
    "findings = re.findall(pattern, book)\n",
    "findings"
   ]
  },
  {
   "cell_type": "code",
   "execution_count": 41,
   "id": "e80400b8-0d2d-4cb5-a866-802938c12a40",
   "metadata": {},
   "outputs": [],
   "source": [
    "# how do I get only the list of titles though?"
   ]
  },
  {
   "cell_type": "code",
   "execution_count": 63,
   "id": "273802b8-5f61-4bfa-8efd-fba5e6ed460c",
   "metadata": {},
   "outputs": [
    {
     "data": {
      "text/plain": [
       "['\\n\\nBefo',\n",
       " '2\\n\\nEverything Precious',\n",
       " '3\\n\\nA Promis',\n",
       " '4\\n\\nBreathe Once Mo',\n",
       " '5\\n\\nAbandoned',\n",
       " '6\\n\\nTomb',\n",
       " '7\\n\\nEas',\n",
       " '8\\n\\nThe Opposite of D',\n",
       " '\\n\\nI See a Man']"
      ]
     },
     "execution_count": 63,
     "metadata": {},
     "output_type": "execute_result"
    }
   ],
   "source": [
    "# attempt after solutions\n",
    "findings = [item.strip(\"\\n\") for item in findings]\n",
    "findings = [item.strip(\"Chapter [1-9]*\") for item in findings]\n",
    "findings\n",
    "\n",
    "# not sure why these don't work"
   ]
  },
  {
   "cell_type": "markdown",
   "id": "80a76a15-fc20-4a6f-8377-4acc69b2ec5f",
   "metadata": {},
   "source": [
    "### Solution option 1:"
   ]
  },
  {
   "cell_type": "code",
   "execution_count": 37,
   "id": "9683a94c-4e56-4c7c-b767-c728660a8e18",
   "metadata": {},
   "outputs": [
    {
     "data": {
      "text/plain": [
       "['Before',\n",
       " 'Everything Precious',\n",
       " 'A Promise',\n",
       " 'Breathe Once More',\n",
       " 'Abandoned',\n",
       " 'Tomb',\n",
       " 'East',\n",
       " 'The Opposite of Death',\n",
       " 'I See a Man',\n",
       " 'After']"
      ]
     },
     "execution_count": 37,
     "metadata": {},
     "output_type": "execute_result"
    }
   ],
   "source": [
    "pattern = re.compile(\"[a-zA-Z ]+\\n\\n\")\n",
    "findings = re.findall(pattern,book)\n",
    "findings = [item.strip(\"\\n\\n\") for item in findings]\n",
    "findings"
   ]
  },
  {
   "cell_type": "markdown",
   "id": "238308bd-3b92-44ac-9a6f-ef62cbc8980b",
   "metadata": {},
   "source": [
    "### Solution option 2:"
   ]
  },
  {
   "cell_type": "code",
   "execution_count": 39,
   "id": "574a1b94-8904-443f-b629-420dc3c6e9bd",
   "metadata": {},
   "outputs": [
    {
     "data": {
      "text/plain": [
       "['Before',\n",
       " 'Everything Precious',\n",
       " 'A Promise',\n",
       " 'Breathe Once More',\n",
       " 'Abandoned',\n",
       " 'Tomb',\n",
       " 'East',\n",
       " 'The Opposite of Death',\n",
       " 'I See a Man',\n",
       " 'After']"
      ]
     },
     "execution_count": 39,
     "metadata": {},
     "output_type": "execute_result"
    }
   ],
   "source": [
    "pattern = re.compile(\"([a-zA-Z ]+)\\n\\n\")\n",
    "findings = re.findall(pattern, book)\n",
    "findings\n",
    "\n",
    "# the parentheses informs code to only return what's inside it"
   ]
  },
  {
   "cell_type": "markdown",
   "id": "01b54d6f-f3c1-4ccb-a580-aa2321a48f9f",
   "metadata": {},
   "source": [
    "## Function that finds the occurence of any word"
   ]
  },
  {
   "cell_type": "code",
   "execution_count": 73,
   "id": "1d633476-e711-4deb-9d70-9ecdf859a261",
   "metadata": {},
   "outputs": [],
   "source": [
    "def find(word):\n",
    "    lowbook = book.lower()\n",
    "    count = lowbook.count(word.lower())\n",
    "    if count == 0:\n",
    "        print(f\"The book does not contain the word {word}.\")\n",
    "    else:\n",
    "        print(count)\n"
   ]
  },
  {
   "cell_type": "markdown",
   "id": "5297e0ca-63ac-4f04-8f18-0ca827c9b950",
   "metadata": {},
   "source": [
    "## Call the function"
   ]
  },
  {
   "cell_type": "code",
   "execution_count": 71,
   "id": "68b65fdf-25ab-4c82-8e7d-912dd41e0fa8",
   "metadata": {},
   "outputs": [
    {
     "name": "stdout",
     "output_type": "stream",
     "text": [
      "115\n"
     ]
    }
   ],
   "source": [
    "find(\"love\")"
   ]
  },
  {
   "cell_type": "code",
   "execution_count": 75,
   "id": "364fd20c-2830-4374-ad41-1bc75bff01a1",
   "metadata": {},
   "outputs": [
    {
     "name": "stdout",
     "output_type": "stream",
     "text": [
      "The book does not contain the word muahahahaha.\n"
     ]
    }
   ],
   "source": [
    "find(\"muahahahaha\")"
   ]
  },
  {
   "cell_type": "markdown",
   "id": "c26c4b7f-5905-40f1-b4af-e1c7a4997c33",
   "metadata": {},
   "source": [
    "### Solution (is this any better?)\n",
    "#### so my solution finds even those cases where the word is a part of the word.\n",
    "#### for example, \"loved\" or \"hated\" would also be returned"
   ]
  },
  {
   "cell_type": "code",
   "execution_count": 82,
   "id": "5c844384-2bbd-4751-9818-44cff28bb949",
   "metadata": {},
   "outputs": [],
   "source": [
    "def find(w):\n",
    "    pattern = re.compile(\"[a-zA-Z]+\")\n",
    "    findings = re.findall(pattern, book.lower())\n",
    "    d = {}\n",
    "    for word in findings :\n",
    "        if word in d.keys():\n",
    "            d[word] = d[word]+1\n",
    "        else:\n",
    "            d[word] =1\n",
    "    try: \n",
    "        return d[w]\n",
    "    except:\n",
    "        return f\"The book does not contain the word {w}.\""
   ]
  },
  {
   "cell_type": "code",
   "execution_count": 83,
   "id": "35f5133f-7365-47a1-95f2-fa4c726982c9",
   "metadata": {},
   "outputs": [
    {
     "data": {
      "text/plain": [
       "'The book does not contain the word neenerneener.'"
      ]
     },
     "execution_count": 83,
     "metadata": {},
     "output_type": "execute_result"
    }
   ],
   "source": [
    "find(\"neenerneener\")"
   ]
  }
 ],
 "metadata": {
  "kernelspec": {
   "display_name": "Python 3 (ipykernel)",
   "language": "python",
   "name": "python3"
  },
  "language_info": {
   "codemirror_mode": {
    "name": "ipython",
    "version": 3
   },
   "file_extension": ".py",
   "mimetype": "text/x-python",
   "name": "python",
   "nbconvert_exporter": "python",
   "pygments_lexer": "ipython3",
   "version": "3.11.4"
  }
 },
 "nbformat": 4,
 "nbformat_minor": 5
}
