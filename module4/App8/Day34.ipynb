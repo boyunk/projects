{
 "cells": [
  {
   "cell_type": "code",
   "execution_count": 3,
   "id": "eb8f9edb-5735-4500-bce6-c7706750114a",
   "metadata": {},
   "outputs": [],
   "source": [
    "# NLP with badly structured data\n",
    "# so no pandas for this"
   ]
  },
  {
   "cell_type": "markdown",
   "id": "35ec0ed6-3d33-49d2-9fee-e47e41181ea0",
   "metadata": {},
   "source": [
    "# Load the book"
   ]
  },
  {
   "cell_type": "code",
   "execution_count": 5,
   "id": "54099d40-7745-460a-8eee-34127a5973ee",
   "metadata": {},
   "outputs": [],
   "source": [
    "with open(\"miracle_in_the_andes.txt\",\"r\") as file:\n",
    "    book = file.read()"
   ]
  },
  {
   "cell_type": "code",
   "execution_count": 6,
   "id": "3491efd3-bbbb-4f86-ac0c-5a0ac9aadc39",
   "metadata": {},
   "outputs": [
    {
     "data": {
      "text/plain": [
       "str"
      ]
     },
     "execution_count": 6,
     "metadata": {},
     "output_type": "execute_result"
    }
   ],
   "source": [
    "type(book)"
   ]
  },
  {
   "cell_type": "markdown",
   "id": "c7dbb75f-76ec-4918-b1ec-a1b57adc3609",
   "metadata": {},
   "source": [
    "# How many chapters?"
   ]
  },
  {
   "cell_type": "markdown",
   "id": "d5e74fea-3dd9-4d19-bbee-059512826688",
   "metadata": {},
   "source": [
    "### with string methods"
   ]
  },
  {
   "cell_type": "code",
   "execution_count": 8,
   "id": "7f792a4e-ca64-425c-9a09-15527c88aaab",
   "metadata": {},
   "outputs": [
    {
     "data": {
      "text/plain": [
       "11"
      ]
     },
     "execution_count": 8,
     "metadata": {},
     "output_type": "execute_result"
    }
   ],
   "source": [
    "book.count(\"Chapter\")"
   ]
  },
  {
   "cell_type": "code",
   "execution_count": 9,
   "id": "c6dbde2e-9ec1-4fce-94c5-54caa43501e5",
   "metadata": {},
   "outputs": [],
   "source": [
    "# this isn't an accurate measure. There is text with \"chapter\" as a part of the text. So we'll use regex"
   ]
  },
  {
   "cell_type": "markdown",
   "id": "def47036-f143-4209-9f9f-23d933de94c2",
   "metadata": {},
   "source": [
    "### With regex"
   ]
  },
  {
   "cell_type": "code",
   "execution_count": 10,
   "id": "feeb3052-7bfb-44a1-a2ca-737da8077bfe",
   "metadata": {},
   "outputs": [],
   "source": [
    "import re"
   ]
  },
  {
   "cell_type": "code",
   "execution_count": 11,
   "id": "ad3c4f62-1f83-4921-b96f-10b1e22e1e57",
   "metadata": {},
   "outputs": [
    {
     "data": {
      "text/plain": [
       "re.compile(r'Chapter [0-9]', re.UNICODE)"
      ]
     },
     "execution_count": 11,
     "metadata": {},
     "output_type": "execute_result"
    }
   ],
   "source": [
    "pattern = re.compile(\"Chapter [0-9]\")\n",
    "pattern"
   ]
  },
  {
   "cell_type": "code",
   "execution_count": 12,
   "id": "fd633399-430d-4999-853f-55e845e807e1",
   "metadata": {},
   "outputs": [
    {
     "data": {
      "text/plain": [
       "['Chapter 1',\n",
       " 'Chapter 2',\n",
       " 'Chapter 3',\n",
       " 'Chapter 4',\n",
       " 'Chapter 5',\n",
       " 'Chapter 6',\n",
       " 'Chapter 7',\n",
       " 'Chapter 8',\n",
       " 'Chapter 9',\n",
       " 'Chapter 1']"
      ]
     },
     "execution_count": 12,
     "metadata": {},
     "output_type": "execute_result"
    }
   ],
   "source": [
    "re.findall(pattern, book)"
   ]
  },
  {
   "cell_type": "code",
   "execution_count": 16,
   "id": "fac34f3b-9615-4500-8e4c-c4cbb5d02279",
   "metadata": {},
   "outputs": [
    {
     "data": {
      "text/plain": [
       "['Chapter 1',\n",
       " 'Chapter 2',\n",
       " 'Chapter 3',\n",
       " 'Chapter 4',\n",
       " 'Chapter 5',\n",
       " 'Chapter 6',\n",
       " 'Chapter 7',\n",
       " 'Chapter 8',\n",
       " 'Chapter 9',\n",
       " 'Chapter 10']"
      ]
     },
     "execution_count": 16,
     "metadata": {},
     "output_type": "execute_result"
    }
   ],
   "source": [
    "#to say that it can include more than a single digit,\n",
    "pattern = re.compile(\"Chapter [0-9]+\")\n",
    "findings = re.findall(pattern, book)\n",
    "findings"
   ]
  },
  {
   "cell_type": "code",
   "execution_count": 17,
   "id": "ec3f9725-8b03-44f4-8a86-e9a53963d361",
   "metadata": {},
   "outputs": [
    {
     "data": {
      "text/plain": [
       "10"
      ]
     },
     "execution_count": 17,
     "metadata": {},
     "output_type": "execute_result"
    }
   ],
   "source": [
    "len(findings)"
   ]
  },
  {
   "cell_type": "code",
   "execution_count": 19,
   "id": "b1f4bea5-683e-472d-a99e-b8cb16064bda",
   "metadata": {},
   "outputs": [],
   "source": [
    "# imagine if I wanted to find something with letters instead of numbers.\n",
    "# for example, if it said \"chapter one\"\n",
    "# I would find this by the following code:\n",
    "# pattern = re.compile(\"Chapter [a-z]+\")"
   ]
  },
  {
   "cell_type": "markdown",
   "id": "c15516ba-52bf-4435-95d4-a777159d4194",
   "metadata": {},
   "source": [
    "# Which are the sentences where \"love\" was used?"
   ]
  },
  {
   "cell_type": "code",
   "execution_count": 24,
   "id": "c2477bbf-4500-42de-a4fe-7c2bc31bd8a2",
   "metadata": {},
   "outputs": [
    {
     "data": {
      "text/plain": [
       "114"
      ]
     },
     "execution_count": 24,
     "metadata": {},
     "output_type": "execute_result"
    }
   ],
   "source": [
    "pattern = re.compile(\"love\")\n",
    "findings = re.findall(pattern, book)\n",
    "findings\n",
    "len(findings)"
   ]
  },
  {
   "cell_type": "code",
   "execution_count": 22,
   "id": "0bf50f7c-46a0-4123-a73d-c6099b662242",
   "metadata": {},
   "outputs": [
    {
     "data": {
      "text/plain": [
       "['passionate love for',\n",
       " 'a love of',\n",
       " 'to love the',\n",
       " 'in love with',\n",
       " 'the love and',\n",
       " 'a love for',\n",
       " 'mother love it',\n",
       " 'and love and',\n",
       " 'her love and',\n",
       " 'his love for',\n",
       " 'of love for',\n",
       " 's love for',\n",
       " 'to love the',\n",
       " 'my love for',\n",
       " 'the love and',\n",
       " 'my love for',\n",
       " 'my love for',\n",
       " 'of love so',\n",
       " 'and love to',\n",
       " 'to love God',\n",
       " 'to love others',\n",
       " 'with love for',\n",
       " 'this love would',\n",
       " 'my love for',\n",
       " 'is love God',\n",
       " 'and love others',\n",
       " 'can love our',\n",
       " 'I love them',\n",
       " 'made love to',\n",
       " 'such love for',\n",
       " 'My love for',\n",
       " 'Only love can',\n",
       " 'with love and',\n",
       " 'the love of',\n",
       " 'this love and',\n",
       " 'with love as',\n",
       " 'his love had',\n",
       " 'I love it',\n",
       " 'in love with',\n",
       " 'never love anything',\n",
       " 'my love for',\n",
       " 'much love and',\n",
       " 'his love when',\n",
       " 'that love was',\n",
       " 'of love that',\n",
       " 'the love in',\n",
       " 'this love swell',\n",
       " 'I love to',\n",
       " 'the love of',\n",
       " 'my love and',\n",
       " 'of love toward',\n",
       " 'was love that',\n",
       " 'my love for',\n",
       " 'the love I',\n",
       " 'to love my']"
      ]
     },
     "execution_count": 22,
     "metadata": {},
     "output_type": "execute_result"
    }
   ],
   "source": [
    "# oof.\n",
    "# I want sentences instead\n",
    "pattern = re.compile(\"[a-zA-Z]* love [a-zA-Z]*\")\n",
    "findings = re.findall(pattern, book)\n",
    "findings"
   ]
  },
  {
   "cell_type": "code",
   "execution_count": 23,
   "id": "3ab2843b-8c4b-4e50-8728-99ea7e38e847",
   "metadata": {},
   "outputs": [
    {
     "data": {
      "text/plain": [
       "55"
      ]
     },
     "execution_count": 23,
     "metadata": {},
     "output_type": "execute_result"
    }
   ],
   "source": [
    "len(findings)"
   ]
  },
  {
   "cell_type": "code",
   "execution_count": 74,
   "id": "16badae3-559a-4bb3-93e2-c6b53b5af1c5",
   "metadata": {},
   "outputs": [
    {
     "data": {
      "text/plain": [
       "[' As a young man, of course, I could not put these things into words, but I knew, and my teammates knew, that there was something special about the game, and under the guidance of the Christian Brothers we developed a passionate love for the sport that shaped our friendships and our lives',\n",
       " ' Guido and I grew up together, playing soccer and sharing a love of motorcycles']"
      ]
     },
     "execution_count": 74,
     "metadata": {},
     "output_type": "execute_result"
    }
   ],
   "source": [
    "pattern = re.compile(\"[a-zA-Z ,]* love [a-zA-Z ]*\")\n",
    "findings = re.findall(pattern, book)\n",
    "findings[:2]"
   ]
  },
  {
   "cell_type": "code",
   "execution_count": 29,
   "id": "381fdbde-148d-432f-ae09-51c8bd549d43",
   "metadata": {},
   "outputs": [
    {
     "data": {
      "text/plain": [
       "50"
      ]
     },
     "execution_count": 29,
     "metadata": {},
     "output_type": "execute_result"
    }
   ],
   "source": [
    "len(findings)"
   ]
  },
  {
   "cell_type": "code",
   "execution_count": 73,
   "id": "6ac9ce27-458d-411d-8c2b-e587d05b89ab",
   "metadata": {},
   "outputs": [
    {
     "data": {
      "text/plain": [
       "[' As a young man, of course, I could not put these things into words, but I knew, and my teammates knew, that there was something special about the game, and under the guidance of the Christian Brothers we developed a passionate love for the sport that shaped our friendships and our lives.',\n",
       " ' Guido and I grew up together, playing soccer and sharing a love of motorcycles, cars, and auto racing.']"
      ]
     },
     "execution_count": 73,
     "metadata": {},
     "output_type": "execute_result"
    }
   ],
   "source": [
    "# but that code is not sustainable.\n",
    "# let's try using a negation\n",
    "pattern = re.compile(\"[^.]* love [^.]*.\")\n",
    "findings = re.findall(pattern, book)\n",
    "findings[:2]"
   ]
  },
  {
   "cell_type": "code",
   "execution_count": 35,
   "id": "65864e58-aa58-468d-a44f-4020419b3b59",
   "metadata": {},
   "outputs": [
    {
     "data": {
      "text/plain": [
       "49"
      ]
     },
     "execution_count": 35,
     "metadata": {},
     "output_type": "execute_result"
    }
   ],
   "source": [
    "len(findings)"
   ]
  },
  {
   "cell_type": "code",
   "execution_count": 37,
   "id": "bd52b4dd-2a3a-4aa2-a261-991aaf65120a",
   "metadata": {},
   "outputs": [],
   "source": [
    "# this method would exclude where love is followed immediately by period, comma, or any type of punctuation."
   ]
  },
  {
   "cell_type": "code",
   "execution_count": 71,
   "id": "fb90b0e6-0739-4324-9372-9a67c24ce13d",
   "metadata": {},
   "outputs": [
    {
     "data": {
      "text/plain": [
       "[' As a young man, of course, I could not put these things into words, but I knew, and my teammates knew, that there was something special about the game, and under the guidance of the Christian Brothers we developed a passionate love for the sport that shaped our friendships and our lives.',\n",
       " ' Guido and I grew up together, playing soccer and sharing a love of motorcycles, cars, and auto racing.']"
      ]
     },
     "execution_count": 71,
     "metadata": {},
     "output_type": "execute_result"
    }
   ],
   "source": [
    "# but that code is not sustainable.\n",
    "# let's try using a negation\n",
    "pattern = re.compile(\"[^.]* love[^a-zA-Z][^.]*.\")\n",
    "findings = re.findall(pattern, book)\n",
    "findings[:2]"
   ]
  },
  {
   "cell_type": "code",
   "execution_count": 39,
   "id": "11ef0847-e9a8-4c84-b0b0-f8c739686d87",
   "metadata": {},
   "outputs": [
    {
     "data": {
      "text/plain": [
       "67"
      ]
     },
     "execution_count": 39,
     "metadata": {},
     "output_type": "execute_result"
    }
   ],
   "source": [
    "len(findings)"
   ]
  },
  {
   "cell_type": "code",
   "execution_count": 72,
   "id": "2c0400f9-183c-4d5a-b45b-1d401b4c488b",
   "metadata": {},
   "outputs": [
    {
     "data": {
      "text/plain": [
       "['As a young man, of course, I could not put these things into words, but I knew, and my teammates knew, that there was something special about the game, and under the guidance of the Christian Brothers we developed a passionate love for the sport that shaped our friendships and our lives.',\n",
       " 'Guido and I grew up together, playing soccer and sharing a love of motorcycles, cars, and auto racing.']"
      ]
     },
     "execution_count": 72,
     "metadata": {},
     "output_type": "execute_result"
    }
   ],
   "source": [
    "# let's get rid of the space at the start of the sentence.\n",
    "# the first part of the regex here means I want a single capital letter at the start of the string.\n",
    "pattern = re.compile(\"[A-Z]{1}[^.]*[^a-zA-Z]+love[^a-zA-Z]+[^.]*.\")\n",
    "findings = re.findall(pattern, book)\n",
    "findings[:2]"
   ]
  },
  {
   "cell_type": "code",
   "execution_count": 48,
   "id": "6082c168-5969-4c5a-916a-0aba28f25f09",
   "metadata": {},
   "outputs": [
    {
     "data": {
      "text/plain": [
       "67"
      ]
     },
     "execution_count": 48,
     "metadata": {},
     "output_type": "execute_result"
    }
   ],
   "source": [
    "len(findings)"
   ]
  },
  {
   "cell_type": "markdown",
   "id": "342eccc0-83dc-4871-b3e7-472bc8f7b0b1",
   "metadata": {},
   "source": [
    "# What are the most used words?"
   ]
  },
  {
   "cell_type": "code",
   "execution_count": 49,
   "id": "4c1e9be3-aa8c-4808-955b-2db796b7a7d9",
   "metadata": {},
   "outputs": [],
   "source": [
    "# right now, the object book is a big str, not a list.\n",
    "# what I'd want to do first is to turn it into a list"
   ]
  },
  {
   "cell_type": "code",
   "execution_count": 70,
   "id": "0c8bf989-54bd-4c21-98cd-4aefb4dbea97",
   "metadata": {},
   "outputs": [],
   "source": [
    "# splits everything by spaces\n",
    "# hidden for now bc its so long\n",
    "# book.split()"
   ]
  },
  {
   "cell_type": "code",
   "execution_count": 51,
   "id": "40228112-7497-417a-84ca-c3fcdeba2e8a",
   "metadata": {},
   "outputs": [],
   "source": [
    "# the problem here is that words that have punctuation attached to it will be counted as seprate from those without\n",
    "# so, let's use regex again"
   ]
  },
  {
   "cell_type": "code",
   "execution_count": 62,
   "id": "4aba5073-34a2-4a8e-9c00-012107856214",
   "metadata": {},
   "outputs": [
    {
     "data": {
      "text/plain": [
       "86798"
      ]
     },
     "execution_count": 62,
     "metadata": {},
     "output_type": "execute_result"
    }
   ],
   "source": [
    "# this will only give me letters\n",
    "# pattern = re.compile(\"a-zA-Z]\")\n",
    "\n",
    "pattern = re.compile(\"[a-z]+\")\n",
    "findings = re.findall(pattern, book.lower())\n",
    "len(findings)"
   ]
  },
  {
   "cell_type": "code",
   "execution_count": 67,
   "id": "bcb5cb6d-d0fe-4258-bb42-6a6f23365cc3",
   "metadata": {},
   "outputs": [],
   "source": [
    "# I now want to create a dictionary that has the word and the number of occurances that the word occurs\n",
    "d = {}\n",
    "for word in findings:\n",
    "    if word in d.keys():\n",
    "        d[word] = d[word] + 1\n",
    "    else:\n",
    "        d[word] = 1\n",
    "\n",
    "# basically I'm asking the program to count every time a word occurs\n",
    "\n",
    "# there's going to be a lot, counting EACH word when I call:\n",
    "# d\n",
    "    "
   ]
  },
  {
   "cell_type": "code",
   "execution_count": 69,
   "id": "3779eb1d-60ab-4f17-9cf5-21d87f141a1e",
   "metadata": {},
   "outputs": [],
   "source": [
    "# I want to sort d\n",
    "d_list = [(value,key) for (key, value) in d.items()]\n",
    "# the reason for value, key ordering is so that I can see the number of times the word was used first\n",
    "# sorted(d_list, reverse = True)\n",
    "# returns the and ... which are stopwords bc obv they appear most often\n",
    "\n",
    "# how to get rid of stopwords?\n",
    "\n",
    "# TBC in Day 35 lectures"
   ]
  },
  {
   "cell_type": "code",
   "execution_count": null,
   "id": "4da195f4-36d9-4cc3-b5ed-baa0e59335a2",
   "metadata": {},
   "outputs": [],
   "source": []
  }
 ],
 "metadata": {
  "kernelspec": {
   "display_name": "Python 3 (ipykernel)",
   "language": "python",
   "name": "python3"
  },
  "language_info": {
   "codemirror_mode": {
    "name": "ipython",
    "version": 3
   },
   "file_extension": ".py",
   "mimetype": "text/x-python",
   "name": "python",
   "nbconvert_exporter": "python",
   "pygments_lexer": "ipython3",
   "version": "3.11.4"
  }
 },
 "nbformat": 4,
 "nbformat_minor": 5
}
